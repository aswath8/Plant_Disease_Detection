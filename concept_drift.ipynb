{
 "metadata": {
  "language_info": {
   "codemirror_mode": {
    "name": "ipython",
    "version": 3
   },
   "file_extension": ".py",
   "mimetype": "text/x-python",
   "name": "python",
   "nbconvert_exporter": "python",
   "pygments_lexer": "ipython3",
   "version": "3.6.12-final"
  },
  "orig_nbformat": 2,
  "kernelspec": {
   "name": "python3612jvsc74a57bd013c7092849be380cec23967dfd3c0ced7623c9fe77a6057e2e8014c5b58f7891",
   "display_name": "Python 3.6.12 64-bit ('ericsson': conda)"
  }
 },
 "nbformat": 4,
 "nbformat_minor": 2,
 "cells": [
  {
   "cell_type": "code",
   "execution_count": 1,
   "metadata": {},
   "outputs": [],
   "source": [
    "from gensim import models\n",
    "\n",
    "import gensim.downloader as api\n",
    "model = api.load('word2vec-google-news-300')\n",
    "model.init_sims(replace=True)  \n"
   ]
  },
  {
   "cell_type": "code",
   "execution_count": null,
   "metadata": {},
   "outputs": [],
   "source": [
    " wmdist=model.wmdistance(s1, s2)"
   ]
  },
  {
   "cell_type": "code",
   "execution_count": 17,
   "metadata": {},
   "outputs": [
    {
     "output_type": "stream",
     "name": "stdout",
     "text": [
      "Tomato__Tomato_mosaic_virusSeeds from disease free healthy plants should be selected for sowing. Soaking of the seeds in a solution of Trisodium Phosphate (90 g/litre of water) a day before sowing helps to reduce the disease incidence.\nTomato_Bacterial_spot Spraying with a combination of copper and organic fungicides in a regular preventative spray program at 5 to 10 day intervals or Spraying with Agrimycin-100 (100 ppm) thrice at 10 days intervals effectively controls the disease.\nProbability of this model working fine:  0.5602201888970885\nProb of P(E|H) 0.6688516265882243\nProb of P(E|S) 0.8520267987101764\n"
     ]
    }
   ],
   "source": [
    "import csv\n",
    "csv_data = csv.reader(open('disease_and_solutions.csv'))\n",
    "top_problem_and_solution = \"Disease Tomato mosaic Solution day before sowing helps to reduce the disease incidence\"\n",
    "#top_problem_and_solution = \"Disease Bacterial spot Solution combination of copper and organic fungicides\"\n",
    "\n",
    "current_season = 'summer'\n",
    "next_season = 'winter'\n",
    "\n",
    "next(csv_data) #ignore headers\n",
    "for row in csv_data:\n",
    "    #Get all the data pertaining to Current season\n",
    "    if(tuple(row)[2]==current_season):\n",
    "        current_season_data = tuple(row)[0] + tuple(row)[1] #You might have to .append()\n",
    "\n",
    "    #Get all the data pertaining to the Next season\n",
    "    if(tuple(row)[2]==next_season):\n",
    "        next_season_data = tuple(row)[0] +\" \"+ tuple(row)[1] \n",
    "\n",
    "print(current_season_data)\n",
    "print(next_season_data)\n",
    "\n",
    "#BAYESIAN INFERENCE\n",
    "#PH or PS = 1/(Total number of models available to switch to).\n",
    "PH=1/2\n",
    "PS=1/2\n",
    "\n",
    "PES = 1 - model.wmdistance(top_problem_and_solution, current_season_data)#infer with current model\n",
    "PEH = 1 - model.wmdistance(top_problem_and_solution, next_season_data)#infer with different model\n",
    "PEH = 1 if PEH >= 1 else PEH\n",
    "PES = 1 if PES >= 1 else PES\n",
    "\n",
    "PSE = ( PES * PS ) / ( PES * PS + PEH * PH ) \n",
    "#If probability(PSE) of current model decreases, then switch to Model H\n",
    "\n",
    "print(\"Probability of this model working fine: \",PSE)\n",
    "print(\"Prob of P(E|H)\", PEH)\n",
    "print(\"Prob of P(E|S)\", PES)\n"
   ]
  },
  {
   "cell_type": "code",
   "execution_count": null,
   "metadata": {},
   "outputs": [],
   "source": [
    "#For N diseases:\n",
    "#PES = PE1S * PE2S * ... PS\n",
    "PES = PS\n",
    "for E in current_season_data:\n",
    "    PES = PES * model.wmdistance(E, current_season_data)\n",
    "\n",
    "PEH = PH\n",
    "for E in current_season_data:\n",
    "    PEH = PEH * model.wmdistance(E, next_season_data)\n",
    "\n",
    "PSE = ( PES * PS ) / ( PES * PS + PEH * PH ) \n",
    "print(\"Probability of this model working fine: \",PSE)\n"
   ]
  }
 ]
}