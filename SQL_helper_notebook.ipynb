{
 "metadata": {
  "language_info": {
   "codemirror_mode": {
    "name": "ipython",
    "version": 3
   },
   "file_extension": ".py",
   "mimetype": "text/x-python",
   "name": "python",
   "nbconvert_exporter": "python",
   "pygments_lexer": "ipython3",
   "version": 3
  },
  "orig_nbformat": 2
 },
 "nbformat": 4,
 "nbformat_minor": 2,
 "cells": [
  {
   "cell_type": "code",
   "execution_count": null,
   "metadata": {},
   "outputs": [],
   "source": [
    "import mysql.connector\n",
    "\n",
    "#Free server registered at https://www.freesqldatabase.com/account/\n",
    "mydb = mysql.connector.connect(\n",
    "  host=\"sql6.freesqldatabase.com\",\n",
    "  user=\"sql6398512\",\n",
    "  password=\"WsJANQDqVw\",\n",
    "  database=\"sql6398512\"\n",
    ")\n",
    "\n",
    "print(mydb)\n",
    "mycursor = mydb.cursor()\n",
    "\n",
    "sql = \"SELECT * FROM trustedDBTable WHERE disease ='\"+ disease_name +\"'\"\n",
    "mycursor.execute(sql)\n",
    "myresult = mycursor.fetchall()\n",
    "\n",
    "sql_query=[]\n",
    "for x in myresult:\n",
    "  print(x)\n",
    "  sql_query.append(x[2])\n",
    "\n",
    "print(sql_query)"
   ]
  },
  {
   "cell_type": "code",
   "execution_count": null,
   "metadata": {},
   "outputs": [],
   "source": [
    "#CREATE TABLE\n",
    "'''\n",
    "mycursor.execute(\"CREATE TABLE trustedDBTable (\"\\\n",
    "    \"SerialNo int NOT NULL AUTO_INCREMENT,\"\\\n",
    "    \"disease VARCHAR(255),\"\\\n",
    "    \"solutions VARCHAR(255),\"\\\n",
    "    \"PRIMARY KEY (SerialNo)\"\\\n",
    "    \")\")\n",
    "'''"
   ]
  },
  {
   "cell_type": "code",
   "execution_count": null,
   "metadata": {},
   "outputs": [],
   "source": [
    "mycursor.execute(\"SHOW DATABASES\")\n",
    "print('Showing all databases: ')\n",
    "for x in mycursor:\n",
    "  print(x)\n",
    "\n",
    "\n",
    "mycursor.execute(\"SHOW TABLES\")\n",
    "print(\"Showing all tables:\")\n",
    "for x in mycursor:\n",
    "  print(x)\n"
   ]
  },
  {
   "cell_type": "code",
   "execution_count": null,
   "metadata": {},
   "outputs": [],
   "source": [
    "#DROP TABLE IF EXISTS\n",
    "#sql = \"DROP TABLE IF EXISTS trustedDBTable\"\n",
    "#mycursor.execute(sql)"
   ]
  },
  {
   "cell_type": "code",
   "execution_count": null,
   "metadata": {},
   "outputs": [],
   "source": [
    "#INSERT DISEASE NAME AND SOLUTION\n",
    "sql = \"INSERT INTO trustedDBTable (disease, solutions) VALUES (%s, %s)\"\n",
    "val = [(\"Tomato_Early_blight\", \"Add Water\"),\n",
    "       (\"Tomato_Early_blight\", \"Add Potassium fertilizer\")]\n",
    "\n",
    "import csv\n",
    "#csv_data = csv.reader(open('disease_and_solutions.csv'))\n",
    "next(csv_data) #ignore headers\n",
    "for row in csv_data:\n",
    "       print(tuple(row))\n",
    "       mycursor.execute(sql, row)\n",
    "\n",
    "\n",
    "#mycursor.execute(sql, val)\n",
    "#mycursor.executemany(sql, val)\n",
    "mydb.commit()\n",
    "#print(mycursor.rowcount, \"record inserted.\")"
   ]
  },
  {
   "cell_type": "code",
   "execution_count": null,
   "metadata": {},
   "outputs": [],
   "source": [
    "\n",
    "#DELETE SOLUTIONS\n",
    "sql = \"DELETE FROM trustedDBTable WHERE disease = 'Dry Leaf' OR solutions = 'Add fertilizer'\"\n",
    "#mycursor.execute(sql)\n",
    "#mydb.commit()\n",
    "#print(mycursor.rowcount, \"record(s) deleted\")"
   ]
  }
 ]
}