{
 "metadata": {
  "language_info": {
   "codemirror_mode": {
    "name": "ipython",
    "version": 3
   },
   "file_extension": ".py",
   "mimetype": "text/x-python",
   "name": "python",
   "nbconvert_exporter": "python",
   "pygments_lexer": "ipython3",
   "version": "3.6.12-final"
  },
  "orig_nbformat": 2,
  "kernelspec": {
   "name": "python3",
   "display_name": "Python 3.6.12 64-bit ('ericsson': conda)",
   "metadata": {
    "interpreter": {
     "hash": "13c7092849be380cec23967dfd3c0ced7623c9fe77a6057e2e8014c5b58f7891"
    }
   }
  }
 },
 "nbformat": 4,
 "nbformat_minor": 2,
 "cells": [
  {
   "cell_type": "code",
   "execution_count": 5,
   "metadata": {},
   "outputs": [
    {
     "output_type": "stream",
     "name": "stdout",
     "text": [
      "<mysql.connector.connection.MySQLConnection object at 0x0000022B3487EB70>\n"
     ]
    },
    {
     "output_type": "error",
     "ename": "NameError",
     "evalue": "name 'disease_name' is not defined",
     "traceback": [
      "\u001b[1;31m---------------------------------------------------------------------------\u001b[0m",
      "\u001b[1;31mNameError\u001b[0m                                 Traceback (most recent call last)",
      "\u001b[1;32m<ipython-input-5-39e7c43e94dd>\u001b[0m in \u001b[0;36m<module>\u001b[1;34m\u001b[0m\n\u001b[0;32m     12\u001b[0m \u001b[0mmycursor\u001b[0m \u001b[1;33m=\u001b[0m \u001b[0mmydb\u001b[0m\u001b[1;33m.\u001b[0m\u001b[0mcursor\u001b[0m\u001b[1;33m(\u001b[0m\u001b[1;33m)\u001b[0m\u001b[1;33m\u001b[0m\u001b[1;33m\u001b[0m\u001b[0m\n\u001b[0;32m     13\u001b[0m \u001b[1;33m\u001b[0m\u001b[0m\n\u001b[1;32m---> 14\u001b[1;33m \u001b[0msql\u001b[0m \u001b[1;33m=\u001b[0m \u001b[1;34m\"SELECT * FROM trustedDBTable WHERE disease ='\"\u001b[0m\u001b[1;33m+\u001b[0m \u001b[0mdisease_name\u001b[0m \u001b[1;33m+\u001b[0m\u001b[1;34m\"'\"\u001b[0m\u001b[1;33m\u001b[0m\u001b[1;33m\u001b[0m\u001b[0m\n\u001b[0m\u001b[0;32m     15\u001b[0m \u001b[0mmycursor\u001b[0m\u001b[1;33m.\u001b[0m\u001b[0mexecute\u001b[0m\u001b[1;33m(\u001b[0m\u001b[0msql\u001b[0m\u001b[1;33m)\u001b[0m\u001b[1;33m\u001b[0m\u001b[1;33m\u001b[0m\u001b[0m\n\u001b[0;32m     16\u001b[0m \u001b[0mmyresult\u001b[0m \u001b[1;33m=\u001b[0m \u001b[0mmycursor\u001b[0m\u001b[1;33m.\u001b[0m\u001b[0mfetchall\u001b[0m\u001b[1;33m(\u001b[0m\u001b[1;33m)\u001b[0m\u001b[1;33m\u001b[0m\u001b[1;33m\u001b[0m\u001b[0m\n",
      "\u001b[1;31mNameError\u001b[0m: name 'disease_name' is not defined"
     ]
    }
   ],
   "source": [
    "import mysql.connector\n",
    "\n",
    "#Free server registered at https://www.freesqldatabase.com/account/\n",
    "mydb = mysql.connector.connect(\n",
    "  host=\"sql6.freesqldatabase.com\",\n",
    "  user=\"sql6404953\",\n",
    "  password=\"7vfShpuyQW\",\n",
    "  database=\"sql6404953\"\n",
    ")\n",
    "\n",
    "print(mydb)\n",
    "mycursor = mydb.cursor()\n",
    "\n",
    "sql = \"SELECT * FROM trustedDBTable WHERE disease ='\"+ disease_name +\"'\"\n",
    "mycursor.execute(sql)\n",
    "myresult = mycursor.fetchall()\n",
    "\n",
    "sql_query=[]\n",
    "for x in myresult:\n",
    "  print(x)\n",
    "  sql_query.append(x[2])\n",
    "\n",
    "print(sql_query)"
   ]
  },
  {
   "cell_type": "code",
   "execution_count": 7,
   "metadata": {},
   "outputs": [],
   "source": [
    "#CREATE TABLE\n",
    "\n",
    "mycursor.execute(\"CREATE TABLE trustedDBTable (\"\\\n",
    "    \"SerialNo int NOT NULL AUTO_INCREMENT,\"\\\n",
    "    \"disease VARCHAR(255),\"\\\n",
    "    \"solutions VARCHAR(255),\"\\\n",
    "    \"season VARCHAR(255),\"\\\n",
    "    \"PRIMARY KEY (SerialNo)\"\\\n",
    "    \")\")\n"
   ]
  },
  {
   "cell_type": "code",
   "execution_count": null,
   "metadata": {},
   "outputs": [],
   "source": [
    "mycursor.execute(\"SHOW DATABASES\")\n",
    "print('Showing all databases: ')\n",
    "for x in mycursor:\n",
    "  print(x)\n",
    "\n",
    "\n",
    "mycursor.execute(\"SHOW TABLES\")\n",
    "print(\"Showing all tables:\")\n",
    "for x in mycursor:\n",
    "  print(x)\n"
   ]
  },
  {
   "cell_type": "code",
   "execution_count": null,
   "metadata": {},
   "outputs": [],
   "source": [
    "#DROP TABLE IF EXISTS\n",
    "#sql = \"DROP TABLE IF EXISTS trustedDBTable\"\n",
    "#mycursor.execute(sql)"
   ]
  },
  {
   "cell_type": "code",
   "execution_count": 8,
   "metadata": {},
   "outputs": [
    {
     "output_type": "stream",
     "name": "stdout",
     "text": [
      "('Tomato_Bacterial_spot', 'Disease-free seed and seedlings should always be used and the crop should be rotated with non-host crops so as to avoid last years crop residue.', 'winter')\n",
      "('Tomato_Bacterial_spot', 'Seed treatment with mercuric chloride (1:1000) is also recommended for control of disease.', 'winter')\n",
      "('Tomato_Bacterial_spot', 'Spraying with a combination of copper and organic fungicides in a regular preventative spray program at 5 to 10 day intervals or Spraying with Agrimycin-100 (100 ppm) thrice at 10 days intervals effectively controls the disease.', 'winter')\n",
      "('Tomato_Leaf_Mold', 'Cover all areas of the plant that are above the soil, especially the underside of leaves, where the disease often forms.', '')\n",
      "('Tomato_Leaf_Mold', 'Calcium chloride-based sprays are recommended for treating leaf mold issues.', '')\n",
      "('Tomato_Septoria_leaf_spot', 'Seed treatment with Thiram or Dithane M-45 (2 g/kg seed) is useful in checking seed borne infection.', '')\n",
      "('Tomato_Septoria_leaf_spot', 'Removal and destruction of the affected plant parts.', '')\n",
      "('Tomato_Septoria_leaf_spot', 'In the field spraying with Mancozeb 0.2 % effectively controls the disease.', '')\n",
      "('Tomato_Spider_mites_Two_spotted_spider_mite', 'Apply a pesticide specific to mites called a miticide.', '')\n",
      "('Â\\xa0Tomato__Tomato_YellowLeaf__Curl_Virus', 'Keep yellow sticky traps @ 12/ha to monitor the white fly.', '')\n",
      "('Â\\xa0Tomato__Tomato_YellowLeaf__Curl_Virus', 'Raise barrier crops-cereals around the field.', '')\n",
      "('Â\\xa0Tomato__Tomato_YellowLeaf__Curl_Virus', 'Spray Imidachloprid 0.05 % or Dimethoate 0.05% @ 15, 25, 45 days after transplanting to control vector.', '')\n",
      "('Tomato__Tomato_mosaic_virus', 'Seeds from disease free healthy plants should be selected for sowing. Soaking of the seeds in a solution of Trisodium Phosphate (90 g/litre of water) a day before sowing helps to reduce the disease incidence.\\nThe seeds should be thoroughly rinsed and dried in shade.', '')\n",
      "('Tomato__Tomato_mosaic_virus', 'In the nursery all the infected plants should be removed carefully and destroyed. ', '')\n",
      "('Tomato__Tomato_mosaic_virus', 'Crop rotation with crops other than tobacco, potato, chilli, capsicum, brinjal, etc. should be undertaken.', '')\n",
      "('Tomato__Tomato_mosaic_virus', 'Seedlings with infected with the viral disease should not be used for transplanting.', '')\n",
      "('Potato___Early_blight', 'Early blight can be controlled by spraying Mancozeb 2 g/lit or Chlorothalonil 2 g/lit at 45, 60 and 75 days after planting.', '')\n",
      "('Potato___Late_blight', ' Spray Mancozeb 2 g/lit or Chlorothalonil 2 g/lit on 45, 60 and 75 days after planting. ', '')\n",
      "('Potato___Late_blight', 'Grow late blight resistant varieties like Kufri Jyothi, Kufri Malar and Kufri Thangam.', '')\n",
      "('Potato___Late_blight', 'Remove ground creepers which serve as a source of infection.', '')\n",
      "('Tomato_Early_blight', 'Removal and destruction of crop debris.', '')\n",
      "('Tomato_Early_blight', 'Practicing crop rotation helps to minimize the disease incidence.', '')\n",
      "('Tomato_Early_blight', 'Spray the crop with Mancozeb 0.2 % for effective disease control.', '')\n"
     ]
    }
   ],
   "source": [
    "#INSERT DISEASE NAME AND SOLUTION\n",
    "\n",
    "sql = \"INSERT INTO trustedDBTable (disease, solutions, season) VALUES (%s, %s, %s)\"\n",
    "val = [(\"Tomato_Early_blight\", \"Add Water\"),\n",
    "       (\"Tomato_Early_blight\", \"Add Potassium fertilizer\")]\n",
    "\n",
    "import csv\n",
    "csv_data = csv.reader(open('disease_and_solutions.csv'))\n",
    "next(csv_data) #ignore headers\n",
    "for row in csv_data:\n",
    "       print(tuple(row))\n",
    "       mycursor.execute(sql, row)\n",
    "\n",
    "\n",
    "#mycursor.execute(sql, val)\n",
    "#mycursor.executemany(sql, val)\n",
    "mydb.commit()\n",
    "#print(mycursor.rowcount, \"record inserted.\")"
   ]
  },
  {
   "cell_type": "code",
   "execution_count": null,
   "metadata": {},
   "outputs": [],
   "source": [
    "\n",
    "#DELETE SOLUTIONS\n",
    "sql = \"DELETE FROM trustedDBTable WHERE disease = 'Dry Leaf' OR solutions = 'Add fertilizer'\"\n",
    "#mycursor.execute(sql)\n",
    "#mydb.commit()\n",
    "#print(mycursor.rowcount, \"record(s) deleted\")"
   ]
  }
 ]
}